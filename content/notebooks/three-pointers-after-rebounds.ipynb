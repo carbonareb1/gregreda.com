{
 "metadata": {
  "name": ""
 },
 "nbformat": 3,
 "nbformat_minor": 0,
 "worksheets": [
  {
   "cells": [
    {
     "cell_type": "markdown",
     "metadata": {},
     "source": [
      "I love college basketball. A lot. My beloved Marquette <strike>Golden Eagles</strike> Warriors are probably the only sports team that can really put me in agony.\n",
      "\n",
      "Last season, I was watching a [nail-biter against Notre Dame](http://scores.espn.go.com/ncb/recap?gameId=330730269). With 3:36 left, Notre Dame's Jack Cooley grabbed an offensive board and promptly passed out to Pat Connaughton for a successful three-pointer. It was a dagger.\n",
      "\n",
      "One thing stuck out to me though - after the shot, [Jay Bilas](http://en.wikipedia.org/wiki/Jay_Bilas), who was calling the game with [Bill Raftery](http://en.wikipedia.org/wiki/Bill_Raftery) and [Sean McDonough](http://en.wikipedia.org/wiki/Sean_McDonough), stated that the best time to attempt a 3-pointer is after an offensive rebound.\n",
      "\n",
      "Intuitively, this statement makes sense - the defensive front line is crashing the boards in hopes of getting a rebound to end the offensive possession, while the defensive backcourt is out on the wings looking for an outlet pass from their teammates, likely leaving their offensive counterparts unguarded.\n",
      "\n",
      "I've never seen any data that indicates whether three pointers are more successful after an offensive rebound though, much less whether it's the best time to shoot one. It seemed like something worth investigating.\n",
      "\n",
      "In the following analysis, we'll try to determine whether there is a material difference between \"normal\" 3P% (those not shot after an offensive rebound) and 3P% when the shot was preceded by an offensive rebound.\n",
      "\n",
      "I'll be going step by step through data collection, munging, and analysis.  If you're just interested in the answer, skip to the last section."
     ]
    },
    {
     "cell_type": "markdown",
     "metadata": {},
     "source": [
      "### Getting the data\n",
      "\n",
      "ESPN has [play-by-play data](http://scores.espn.go.com/ncb/playbyplay?gameId=330620221) for almost every NCAA Division I game. I've written a python script that will collect all of this data for a given date range.  You can find the script [here](https://gist.github.com/gjreda/7175267). If you're unfamiliar with web scraping, [check out the tutorial](http://www.gregreda.com/2013/03/03/web-scraping-101-with-python/) I wrote previously."
     ]
    },
    {
     "cell_type": "markdown",
     "metadata": {},
     "source": [
      "### Analysis\n",
      "\n",
      "Here's an example of what the game files look like:"
     ]
    },
    {
     "cell_type": "code",
     "collapsed": false,
     "input": [
      "%cd ../../_code/cbb-play-data/"
     ],
     "language": "python",
     "metadata": {},
     "outputs": [
      {
       "output_type": "stream",
       "stream": "stdout",
       "text": [
        "/Users/greda/Dropbox/gregreda.com/_code/cbb-play-data\n"
       ]
      }
     ],
     "prompt_number": 1
    },
    {
     "cell_type": "code",
     "collapsed": false,
     "input": [
      "!head -n 5 330620024.psv"
     ],
     "language": "python",
     "metadata": {},
     "outputs": [
      {
       "output_type": "stream",
       "stream": "stdout",
       "text": [
        "time|away|score|home\r",
        "\r\n",
        "19:39|Brandon Taylor missed Jumper.|0-0|\r",
        "\r\n",
        "19:39||0-0|Josh Huestis Defensive Rebound.\r",
        "\r\n",
        "19:28||0-3|Aaron Bright made Three Point Jumper.\r",
        "\r\n",
        "19:08|Jordan Loveridge missed Layup.|0-3|\r",
        "\r\n"
       ]
      }
     ],
     "prompt_number": 2
    },
    {
     "cell_type": "markdown",
     "metadata": {},
     "source": [
      "In the output above, we see what a line referring to a three pointer looks like. Let's see what an offensive rebound line looks like:"
     ]
    },
    {
     "cell_type": "code",
     "collapsed": false,
     "input": [
      "!grep Offensive 330620024.psv | head -n 5"
     ],
     "language": "python",
     "metadata": {},
     "outputs": [
      {
       "output_type": "stream",
       "stream": "stdout",
       "text": [
        "12:50|Jason Washburn Offensive Rebound.|6-13|\r",
        "\r\n",
        "7:34||13-25|Dwight Powell Offensive Rebound.\r",
        "\r\n",
        "6:52||15-28|Gabriel Harris Offensive Rebound.\r",
        "\r\n",
        "5:56||17-30|Gabriel Harris Offensive Rebound.\r",
        "\r\n",
        "4:19|Utah Offensive Rebound.|19-33|\r",
        "\r\n"
       ]
      }
     ],
     "prompt_number": 3
    },
    {
     "cell_type": "markdown",
     "metadata": {},
     "source": [
      "Now let's start our analysis using [pandas](http://pandas.pydata.org/)."
     ]
    },
    {
     "cell_type": "code",
     "collapsed": false,
     "input": [
      "import pandas as pd\n",
      "import numpy as np\n",
      "import matplotlib.pyplot as plt\n",
      "import glob\n",
      "import re"
     ],
     "language": "python",
     "metadata": {},
     "outputs": [],
     "prompt_number": 4
    },
    {
     "cell_type": "code",
     "collapsed": false,
     "input": [
      "# read PSVs into DataFrame\n",
      "games = []\n",
      "files = glob.glob('*.psv')\n",
      "for f in files:\n",
      "    df = pd.read_csv(f, sep='|')\n",
      "    df['game_id'] = f.replace('.psv', '')\n",
      "    games.append(df)\n",
      "\n",
      "print 'Read {0} games'.format(len(games))"
     ],
     "language": "python",
     "metadata": {},
     "outputs": [
      {
       "output_type": "stream",
       "stream": "stdout",
       "text": [
        "Read 2931 games\n"
       ]
      }
     ],
     "prompt_number": 5
    },
    {
     "cell_type": "markdown",
     "metadata": {},
     "source": [
      "To start, we need to find all incidents of a three pointer immediately after an offensive rebound.\n",
      "\n",
      "This format is kind of crappy though - since events are in separate columns for the home and away teams, we'd have to write logic to check against each column.  Let's munge our data into a slightly different format - one column for `team`, which will indicate home/away, and another for `event`, which will store the description of what occurred."
     ]
    },
    {
     "cell_type": "code",
     "collapsed": false,
     "input": [
      "games_df = pd.concat(games)\n",
      "\n",
      "# add event_id to maintain event order\n",
      "# we can use the index since pandas defaults to the Nth row of the file\n",
      "games_df['event_id'] = games_df.index\n",
      "\n",
      "# melt data into one column for home/away and another for event\n",
      "# maintain play order by sorting on event_id\n",
      "melted = pd.melt(games_df, id_vars=['event_id', 'game_id', 'time', 'score'],\n",
      "                     var_name='team', value_name='event')\n",
      "melted.sort_index(by=['game_id', 'event_id'], inplace=True)\n",
      "\n",
      "# drop rows with NaN events - an event only belongs to one team\n",
      "melted = melted[melted.event.notnull()]\n",
      "print melted[10:15]"
     ],
     "language": "python",
     "metadata": {},
     "outputs": [
      {
       "output_type": "stream",
       "stream": "stdout",
       "text": [
        "        event_id    game_id   time score  team                                  event\n",
        "917522        10  330010066  19:11   0-0  home         Melvin Ejim missed Free Throw.\n",
        "11            11  330010066  19:11   0-0  away  Jeremiah Kreisberg Defensive Rebound.\n",
        "12            12  330010066  18:37   0-0  away            Justin Sears missed Jumper.\n",
        "917525        13  330010066  18:37   0-0  home        Percy Gibson Defensive Rebound.\n",
        "917526        14  330010066  18:31   0-0  home  Chris Babb missed Three Point Jumper.\n"
       ]
      }
     ],
     "prompt_number": 6
    },
    {
     "cell_type": "markdown",
     "metadata": {},
     "source": [
      "We need to know whether the three pointers were missed or made - let's write a function called `get_shot_result` to extract the shot result from the `event` column. We can apply it to every row that contains a three pointer, storing the results in a new column called `shot_result`."
     ]
    },
    {
     "cell_type": "code",
     "collapsed": false,
     "input": [
      "# label whether three pointers were made or missed\n",
      "get_shot_result = lambda x: re.findall('(made|missed)', x)[0]\n",
      "shot3 = melted.event.str.contains('Three Point')\n",
      "melted['shot_result'] = melted[shot3].event.apply(get_shot_result)"
     ],
     "language": "python",
     "metadata": {},
     "outputs": [],
     "prompt_number": 7
    },
    {
     "cell_type": "markdown",
     "metadata": {},
     "source": [
      "Now let's write a function to label the events that meet our criteria - a three point attempt that was preceded by an offensive rebound. We can use `shift(1)` to reference the event on the previous row."
     ]
    },
    {
     "cell_type": "code",
     "collapsed": false,
     "input": [
      "def criteria(df):\n",
      "    \"\"\"Labels if the three pointer was preceded by an offensive rebound.\"\"\"\n",
      "    df['after_oreb'] = ((df.event.str.contains('Three Point')) & \\\n",
      "                        df.event.shift(1).str.contains('Offensive Rebound'))\n",
      "    df.after_oreb.fillna(False, inplace=True)\n",
      "    return df\n",
      "\n",
      "melted = melted.groupby('game_id').apply(criteria)\n",
      "melted[melted.shot_result.notnull()].head(3)"
     ],
     "language": "python",
     "metadata": {},
     "outputs": [
      {
       "html": [
        "<div style=\"max-height:1000px;max-width:1500px;overflow:auto;\">\n",
        "<table border=\"1\" class=\"dataframe\">\n",
        "  <thead>\n",
        "    <tr style=\"text-align: right;\">\n",
        "      <th></th>\n",
        "      <th>event_id</th>\n",
        "      <th>game_id</th>\n",
        "      <th>time</th>\n",
        "      <th>score</th>\n",
        "      <th>team</th>\n",
        "      <th>event</th>\n",
        "      <th>shot_result</th>\n",
        "      <th>after_oreb</th>\n",
        "    </tr>\n",
        "  </thead>\n",
        "  <tbody>\n",
        "    <tr>\n",
        "      <th>2     </th>\n",
        "      <td>  2</td>\n",
        "      <td> 330010066</td>\n",
        "      <td> 19:31</td>\n",
        "      <td> 0-0</td>\n",
        "      <td> away</td>\n",
        "      <td> Austin Morgan missed Three Point Jumper.</td>\n",
        "      <td> missed</td>\n",
        "      <td> False</td>\n",
        "    </tr>\n",
        "    <tr>\n",
        "      <th>917518</th>\n",
        "      <td>  6</td>\n",
        "      <td> 330010066</td>\n",
        "      <td> 19:14</td>\n",
        "      <td> 0-0</td>\n",
        "      <td> home</td>\n",
        "      <td>  Will Clyburn missed Three Point Jumper.</td>\n",
        "      <td> missed</td>\n",
        "      <td>  True</td>\n",
        "    </tr>\n",
        "    <tr>\n",
        "      <th>917526</th>\n",
        "      <td> 14</td>\n",
        "      <td> 330010066</td>\n",
        "      <td> 18:31</td>\n",
        "      <td> 0-0</td>\n",
        "      <td> home</td>\n",
        "      <td>    Chris Babb missed Three Point Jumper.</td>\n",
        "      <td> missed</td>\n",
        "      <td> False</td>\n",
        "    </tr>\n",
        "  </tbody>\n",
        "</table>\n",
        "</div>"
       ],
       "metadata": {},
       "output_type": "pyout",
       "prompt_number": 8,
       "text": [
        "        event_id    game_id   time score  team  \\\n",
        "2              2  330010066  19:31   0-0  away   \n",
        "917518         6  330010066  19:14   0-0  home   \n",
        "917526        14  330010066  18:31   0-0  home   \n",
        "\n",
        "                                           event shot_result after_oreb  \n",
        "2       Austin Morgan missed Three Point Jumper.      missed      False  \n",
        "917518   Will Clyburn missed Three Point Jumper.      missed       True  \n",
        "917526     Chris Babb missed Three Point Jumper.      missed      False  "
       ]
      }
     ],
     "prompt_number": 8
    },
    {
     "cell_type": "markdown",
     "metadata": {},
     "source": [
      "Finally, we can calculate the 3P% for our groups and plot the results."
     ]
    },
    {
     "cell_type": "code",
     "collapsed": false,
     "input": [
      "threes = melted[melted.shot_result.notnull()]\n",
      "attempts = threes.groupby(['shot_result', 'after_oreb']).size().unstack(0)\n",
      "attempts['perc'] = attempts.made.astype(float) / (attempts.made + attempts.missed)\n",
      "print attempts"
     ],
     "language": "python",
     "metadata": {},
     "outputs": [
      {
       "output_type": "stream",
       "stream": "stdout",
       "text": [
        "shot_result   made  missed      perc\n",
        "after_oreb                          \n",
        "False        33244   63608  0.343245\n",
        "True          2861    5341  0.348817\n"
       ]
      }
     ],
     "prompt_number": 9
    },
    {
     "cell_type": "code",
     "collapsed": false,
     "input": [
      "attempts.index = ['No', 'Yes']\n",
      "plt.figure(figsize=[8, 6])\n",
      "attempts.perc.plot(kind='bar')\n",
      "plt.ylabel('3P%')\n",
      "plt.xlabel('After Offensive Rebound?')\n",
      "plt.grid(False);"
     ],
     "language": "python",
     "metadata": {},
     "outputs": [
      {
       "metadata": {},
       "output_type": "display_data",
       "png": "[encoded data removed]",
       "text": [
        "<matplotlib.figure.Figure at 0x1158fed90>"
       ]
      }
     ],
     "prompt_number": 10
    },
    {
     "cell_type": "markdown",
     "metadata": {},
     "source": [
      "### Digging deeper\n",
      "\n",
      "At the most basic level, the difference is negligible. Not all post-offensive rebound three pointers are created equally though.  Let's investigate further to see whether three pointers shot shortly after the rebound are more successful.  Let's look at only three pointers that were shot within seven seconds of the offensive rebound.\n",
      "\n",
      "To do so, we'll need to munge our data a bit more in order to calculate the seconds elapsed between rebound and shot attempt."
     ]
    },
    {
     "cell_type": "code",
     "collapsed": false,
     "input": [
      "melted['minutes'] = melted.time.apply(lambda x: int(x.split(':')[0]))\n",
      "melted['seconds'] = melted.time.apply(lambda x: int(x.split(':')[1]))"
     ],
     "language": "python",
     "metadata": {},
     "outputs": [],
     "prompt_number": 11
    },
    {
     "cell_type": "markdown",
     "metadata": {},
     "source": [
      "Notice below that time-outs and end of periods are duplicated within the data (this is because they originally appeared as both a home and away event)."
     ]
    },
    {
     "cell_type": "code",
     "collapsed": false,
     "input": [
      "duped_cols = ['game_id', 'event_id', 'time', 'event']\n",
      "melted[melted.duplicated(cols=duped_cols)][:3]"
     ],
     "language": "python",
     "metadata": {},
     "outputs": [
      {
       "html": [
        "<div style=\"max-height:1000px;max-width:1500px;overflow:auto;\">\n",
        "<table border=\"1\" class=\"dataframe\">\n",
        "  <thead>\n",
        "    <tr style=\"text-align: right;\">\n",
        "      <th></th>\n",
        "      <th>event_id</th>\n",
        "      <th>game_id</th>\n",
        "      <th>time</th>\n",
        "      <th>score</th>\n",
        "      <th>team</th>\n",
        "      <th>event</th>\n",
        "      <th>shot_result</th>\n",
        "      <th>after_oreb</th>\n",
        "      <th>minutes</th>\n",
        "      <th>seconds</th>\n",
        "    </tr>\n",
        "  </thead>\n",
        "  <tbody>\n",
        "    <tr>\n",
        "      <th>917546</th>\n",
        "      <td> 34</td>\n",
        "      <td> 330010066</td>\n",
        "      <td> 15:22</td>\n",
        "      <td> Official TV Timeout.</td>\n",
        "      <td> home</td>\n",
        "      <td> Official TV Timeout.</td>\n",
        "      <td> NaN</td>\n",
        "      <td> False</td>\n",
        "      <td> 15</td>\n",
        "      <td> 22</td>\n",
        "    </tr>\n",
        "    <tr>\n",
        "      <th>917559</th>\n",
        "      <td> 47</td>\n",
        "      <td> 330010066</td>\n",
        "      <td> 13:40</td>\n",
        "      <td>   Yale Full Timeout.</td>\n",
        "      <td> home</td>\n",
        "      <td>   Yale Full Timeout.</td>\n",
        "      <td> NaN</td>\n",
        "      <td> False</td>\n",
        "      <td> 13</td>\n",
        "      <td> 40</td>\n",
        "    </tr>\n",
        "    <tr>\n",
        "      <th>917575</th>\n",
        "      <td> 63</td>\n",
        "      <td> 330010066</td>\n",
        "      <td> 11:53</td>\n",
        "      <td> Official TV Timeout.</td>\n",
        "      <td> home</td>\n",
        "      <td> Official TV Timeout.</td>\n",
        "      <td> NaN</td>\n",
        "      <td> False</td>\n",
        "      <td> 11</td>\n",
        "      <td> 53</td>\n",
        "    </tr>\n",
        "  </tbody>\n",
        "</table>\n",
        "</div>"
       ],
       "metadata": {},
       "output_type": "pyout",
       "prompt_number": 12,
       "text": [
        "        event_id    game_id   time                 score  team  \\\n",
        "917546        34  330010066  15:22  Official TV Timeout.  home   \n",
        "917559        47  330010066  13:40    Yale Full Timeout.  home   \n",
        "917575        63  330010066  11:53  Official TV Timeout.  home   \n",
        "\n",
        "                       event shot_result after_oreb  minutes  seconds  \n",
        "917546  Official TV Timeout.         NaN      False       15       22  \n",
        "917559    Yale Full Timeout.         NaN      False       13       40  \n",
        "917575  Official TV Timeout.         NaN      False       11       53  "
       ]
      }
     ],
     "prompt_number": 12
    },
    {
     "cell_type": "markdown",
     "metadata": {},
     "source": [
      "Let's get rid of them so we can easily label events within each period (keeping them in will throw our function off a bit)."
     ]
    },
    {
     "cell_type": "code",
     "collapsed": false,
     "input": [
      "melted.drop_duplicates(cols=['game_id', 'event_id', 'event'], inplace=True)"
     ],
     "language": "python",
     "metadata": {},
     "outputs": [],
     "prompt_number": 13
    },
    {
     "cell_type": "markdown",
     "metadata": {},
     "source": [
      "Now we can label each period based on when the `End of ...` event appears - events before it are the first half; events after, the second half. To do so, we can use `cumsum`, which will treat `True` values as 1.  This means we can just shift our results down a row and take the running total."
     ]
    },
    {
     "cell_type": "code",
     "collapsed": false,
     "input": [
      "melted['period_end'] = melted.event.apply(lambda x: x.startswith('End of'))\n",
      "melted[melted.period_end].head(3)"
     ],
     "language": "python",
     "metadata": {},
     "outputs": [
      {
       "html": [
        "<div style=\"max-height:1000px;max-width:1500px;overflow:auto;\">\n",
        "<table border=\"1\" class=\"dataframe\">\n",
        "  <thead>\n",
        "    <tr style=\"text-align: right;\">\n",
        "      <th></th>\n",
        "      <th>event_id</th>\n",
        "      <th>game_id</th>\n",
        "      <th>time</th>\n",
        "      <th>score</th>\n",
        "      <th>team</th>\n",
        "      <th>event</th>\n",
        "      <th>shot_result</th>\n",
        "      <th>after_oreb</th>\n",
        "      <th>minutes</th>\n",
        "      <th>seconds</th>\n",
        "      <th>period_end</th>\n",
        "    </tr>\n",
        "  </thead>\n",
        "  <tbody>\n",
        "    <tr>\n",
        "      <th>171</th>\n",
        "      <td> 171</td>\n",
        "      <td> 330010066</td>\n",
        "      <td> 0:00</td>\n",
        "      <td> End of the 1st Half.</td>\n",
        "      <td> away</td>\n",
        "      <td> End of the 1st Half.</td>\n",
        "      <td> NaN</td>\n",
        "      <td> False</td>\n",
        "      <td> 0</td>\n",
        "      <td> 0</td>\n",
        "      <td> True</td>\n",
        "    </tr>\n",
        "    <tr>\n",
        "      <th>480</th>\n",
        "      <td> 123</td>\n",
        "      <td> 330010120</td>\n",
        "      <td> 0:00</td>\n",
        "      <td> End of the 1st Half.</td>\n",
        "      <td> away</td>\n",
        "      <td> End of the 1st Half.</td>\n",
        "      <td> NaN</td>\n",
        "      <td> False</td>\n",
        "      <td> 0</td>\n",
        "      <td> 0</td>\n",
        "      <td> True</td>\n",
        "    </tr>\n",
        "    <tr>\n",
        "      <th>770</th>\n",
        "      <td> 142</td>\n",
        "      <td> 330010228</td>\n",
        "      <td> 0:00</td>\n",
        "      <td> End of the 1st Half.</td>\n",
        "      <td> away</td>\n",
        "      <td> End of the 1st Half.</td>\n",
        "      <td> NaN</td>\n",
        "      <td> False</td>\n",
        "      <td> 0</td>\n",
        "      <td> 0</td>\n",
        "      <td> True</td>\n",
        "    </tr>\n",
        "  </tbody>\n",
        "</table>\n",
        "</div>"
       ],
       "metadata": {},
       "output_type": "pyout",
       "prompt_number": 14,
       "text": [
        "     event_id    game_id  time                 score  team  \\\n",
        "171       171  330010066  0:00  End of the 1st Half.  away   \n",
        "480       123  330010120  0:00  End of the 1st Half.  away   \n",
        "770       142  330010228  0:00  End of the 1st Half.  away   \n",
        "\n",
        "                    event shot_result after_oreb  minutes  seconds period_end  \n",
        "171  End of the 1st Half.         NaN      False        0        0       True  \n",
        "480  End of the 1st Half.         NaN      False        0        0       True  \n",
        "770  End of the 1st Half.         NaN      False        0        0       True  "
       ]
      }
     ],
     "prompt_number": 14
    },
    {
     "cell_type": "code",
     "collapsed": false,
     "input": [
      "calculate_period = lambda x: x.shift(1).cumsum().fillna(0) + 1\n",
      "melted['period'] = melted.groupby('game_id').period_end.apply(calculate_period)"
     ],
     "language": "python",
     "metadata": {},
     "outputs": [],
     "prompt_number": 15
    },
    {
     "cell_type": "markdown",
     "metadata": {},
     "source": [
      "Now we can use the period to calculate the total time left in the game."
     ]
    },
    {
     "cell_type": "code",
     "collapsed": false,
     "input": [
      "melted.set_index('game_id', inplace=True)\n",
      "\n",
      "# 40min regulation game + (# periods - 2 halves) * 5min OTs\n",
      "gametime = lambda x: 40 + (x - 2) * 5\n",
      "melted['gametime'] = melted.groupby(level=0).period.max().apply(gametime)\n",
      "melted.reset_index('game_id', inplace=True)"
     ],
     "language": "python",
     "metadata": {},
     "outputs": [],
     "prompt_number": 16
    },
    {
     "cell_type": "markdown",
     "metadata": {},
     "source": [
      "Setting the `game_id` as the index was necessary for this function since pandas naturally tries to match on indexes. If we were to try ...\n",
      "```\n",
      "    melted['gametime'] = melted.groupby('game_id').period.max().apply(gametime)\n",
      "```\n",
      "It would not have worked because the Series object returned by our `groupby` operation uses the `game_id` as its index, while our DataFrame did not. pandas would have been unable to match the two and create the new `gametime` column."
     ]
    },
    {
     "cell_type": "code",
     "collapsed": false,
     "input": [
      "melted.groupby('gametime').game_id.nunique()"
     ],
     "language": "python",
     "metadata": {},
     "outputs": [
      {
       "metadata": {},
       "output_type": "pyout",
       "prompt_number": 17,
       "text": [
        "gametime\n",
        "35            54\n",
        "40          2365\n",
        "45           442\n",
        "50            61\n",
        "55             7\n",
        "60             1\n",
        "65             1\n",
        "dtype: int64"
       ]
      }
     ],
     "prompt_number": 17
    },
    {
     "cell_type": "markdown",
     "metadata": {},
     "source": [
      "Notice above that some games have a total gametime of 35 minutes. All college basketball games are at least 40 minutes, so something is off.\n",
      "\n",
      "It turns out there are some inconsistencies in ESPN's play-by-play data - a couple games do not have the `End of the 1st Half.` event - [here's an example](http://scores.espn.go.com/ncb/playbyplay?gameId=330752617).  This throws off our `period` and `gametime` calculations. Such is life when dealing with scraped data though.\n",
      "\n",
      "Let's keep things simple and just assume they were normal, non-OT games."
     ]
    },
    {
     "cell_type": "code",
     "collapsed": false,
     "input": [
      "melted.loc[melted.gametime == 35, 'gametime'] = 40"
     ],
     "language": "python",
     "metadata": {},
     "outputs": [],
     "prompt_number": 18
    },
    {
     "cell_type": "markdown",
     "metadata": {},
     "source": [
      "Now let's normalize the event times to seconds left in the game. This will allow us to see how much time elapsed between the offensive rebound and three point attempt."
     ]
    },
    {
     "cell_type": "code",
     "collapsed": false,
     "input": [
      "def clock_to_secs_left(df):\n",
      "    \"\"\"Calculates the total seconds left in the game.\"\"\"\n",
      "    df['secs_left'] = np.nan\n",
      "    df.loc[df.period == 1, 'secs_left'] = (df.minutes * 60) + 1200 + df.seconds\n",
      "    df.loc[df.period > 1, 'secs_left'] = (df.minutes * 60) + df.seconds\n",
      "    return df"
     ],
     "language": "python",
     "metadata": {},
     "outputs": [],
     "prompt_number": 19
    },
    {
     "cell_type": "code",
     "collapsed": false,
     "input": [
      "clock_to_secs_left(melted)\n",
      "print melted[['game_id', 'time', 'event', 'period', 'secs_left']][:5]"
     ],
     "language": "python",
     "metadata": {},
     "outputs": [
      {
       "output_type": "stream",
       "stream": "stdout",
       "text": [
        "     game_id   time                                     event period  secs_left\n",
        "0  330010066  19:47                      Chris Babb Turnover.      1       2387\n",
        "1  330010066  19:45                      Austin Morgan Steal.      1       2385\n",
        "2  330010066  19:31  Austin Morgan missed Three Point Jumper.      1       2371\n",
        "3  330010066  19:31          Korie Lucious Defensive Rebound.      1       2371\n",
        "4  330010066  19:21              Korie Lucious missed Jumper.      1       2361\n"
       ]
      }
     ],
     "prompt_number": 20
    },
    {
     "cell_type": "markdown",
     "metadata": {},
     "source": [
      "We can finally see how much time elapsed between offensive rebound and three point attempt.\n",
      "\n",
      "We'll create a new field which will store the seconds elapsed since the previous event. Then we'll create a new DataFrame called `threes_after_orebs` which will hold three point attempts that were shot within seven seconds of an offensive rebound."
     ]
    },
    {
     "cell_type": "code",
     "collapsed": false,
     "input": [
      "melted['secs_elapsed'] = melted.secs_left.shift(1) - melted.secs_left\n",
      "\n",
      "mask = (melted.secs_elapsed >= 0) & (melted.secs_elapsed <= 7)\n",
      "threes_after_orebs = melted[melted.after_oreb & mask]"
     ],
     "language": "python",
     "metadata": {},
     "outputs": [],
     "prompt_number": 21
    },
    {
     "cell_type": "markdown",
     "metadata": {},
     "source": [
      "Finally, let's group our data by the seconds elapsed and shot result to get the three point percentage for each bucket, which we can plot."
     ]
    },
    {
     "cell_type": "code",
     "collapsed": false,
     "input": [
      "grouped = threes_after_orebs.groupby(['shot_result', 'secs_elapsed']).size()\n",
      "grouped = grouped.unstack(0).fillna(0)"
     ],
     "language": "python",
     "metadata": {},
     "outputs": [],
     "prompt_number": 22
    },
    {
     "cell_type": "code",
     "collapsed": false,
     "input": [
      "grouped['attempts'] = grouped.made + grouped.missed\n",
      "grouped['percentage'] = grouped.made / grouped.attempts.astype(float)"
     ],
     "language": "python",
     "metadata": {},
     "outputs": [],
     "prompt_number": 23
    },
    {
     "cell_type": "code",
     "collapsed": false,
     "input": [
      "t = threes.shot_result.value_counts()\n",
      "t = float(t['made']) / (t['made'] + t['missed'])"
     ],
     "language": "python",
     "metadata": {},
     "outputs": [],
     "prompt_number": 24
    },
    {
     "cell_type": "code",
     "collapsed": false,
     "input": [
      "figsize(12.5, 7)\n",
      "\n",
      "plt.plot(grouped.percentage, label='O-Reb 3P%', color='#377EB8')\n",
      "plt.hlines(t, 0, 7, label='\"Normal\" 3P%', linestyles='--')\n",
      "plt.xlabel('Seconds Since Offensive Rebound')\n",
      "plt.xticks(np.arange(8))\n",
      "plt.ylabel('3-Point Percentage', labelpad=15)\n",
      "plt.grid(False)\n",
      "plt.legend(loc='lower right');"
     ],
     "language": "python",
     "metadata": {},
     "outputs": [
      {
       "metadata": {},
       "output_type": "display_data",
       "png": "[encoded data removed]",
       "text": [
        "<matplotlib.figure.Figure at 0x118e91150>"
       ]
      }
     ],
     "prompt_number": 25
    },
    {
     "cell_type": "markdown",
     "metadata": {},
     "source": [
      "It looks like there *might* be some truth to Jay Bilas' statement that the best time to shoot a three pointer is after an offensive rebound. However, we can go one step further and simulate our way to a numeric value of how \"correct\" he was."
     ]
    },
    {
     "cell_type": "markdown",
     "metadata": {},
     "source": [
      "### Simulations\n",
      "\n",
      "To start, we'll create two Series based on the `melted` DataFrame that we have been using throughout the analysis. One Series, which we'll call `normal`, will hold the results of three pointers that were normally attempted - that is, they were not shot immediately after an offensive rebound.  The other Series, `after`, will contain the results of those shot after an offensive rebound.\n",
      "\n",
      "`True` will be used to indicate a made basket."
     ]
    },
    {
     "cell_type": "code",
     "collapsed": false,
     "input": [
      "convert = lambda x: True if x == 'made' else False\n",
      "\n",
      "normal_criteria = (melted.after_oreb == False) & melted.shot_result.notnull()\n",
      "normal = melted[normal_criteria].shot_result.apply(convert)\n",
      "\n",
      "after_criteria = (melted.after_oreb) & melted.shot_result.notnull() & \\\n",
      "                    (melted.secs_elapsed <= 7)\n",
      "after = melted[after_criteria].shot_result.apply(convert)"
     ],
     "language": "python",
     "metadata": {},
     "outputs": [],
     "prompt_number": 26
    },
    {
     "cell_type": "code",
     "collapsed": false,
     "input": [
      "print \"After O-Reb 3P%:\", after.mean()\n",
      "print \"Sample Size:\", len(after)\n",
      "print \"\\n\"\n",
      "print \"All other 3P%:\", normal.mean()\n",
      "print \"Sample Size:\", len(normal)\n",
      "print \"\\n\"\n",
      "print \"Absolute difference: %.4f\" % (after.mean() - normal.mean())"
     ],
     "language": "python",
     "metadata": {},
     "outputs": [
      {
       "output_type": "stream",
       "stream": "stdout",
       "text": [
        "After O-Reb 3P%: 0.350169109357\n",
        "Sample Size: 4435\n",
        "\n",
        "\n",
        "All other 3P%: 0.343264007931\n",
        "Sample Size: 96838\n",
        "\n",
        "\n",
        "Absolute difference: 0.0069\n"
       ]
      }
     ],
     "prompt_number": 27
    },
    {
     "cell_type": "markdown",
     "metadata": {},
     "source": [
      "While we have data for 2,932 games, it turns out that three pointers shot within seven seconds of an offensive rebound aren't very common - it only occurred 4,435 times, while \"normal\" three pointers were shot 96,838 times.\n",
      "\n",
      "The much smaller population means that we're more uncertain about the \"true\" success rate of those after offensive rebounds.\n",
      "\n",
      "Using [pymc](http://pymc-devs.github.io/pymc/), we can run a simulations to determine how likely it is that three pointers after offensive rebounds really *are* easier, while taking into account this uncertainty.\n",
      "\n",
      "We'll first assume a uniform distribution between 30% and 40% for both \"normal\" three pointers and those after offensive rebounds. This means that we believe the \"true\" success rate of each to be somewhere between 30-40%. This seems reasonable given that the 3P% for all of NCAA Division I basketball during the 2012-2013 season was 33.89% \\[[source](http://statsheet.com/mcb/beyondthearc)].\n",
      "\n",
      "We then generate observations using our `normal` and `after` Series. Our observations are an example of a Bernoulli distribution, meaning that the outcome is binary - the three pointer was either made (True) or missed (False).\n",
      "\n",
      "We'll then run 20,000 simulations using our existing data and assumptions."
     ]
    },
    {
     "cell_type": "code",
     "collapsed": false,
     "input": [
      "import pymc as pm\n",
      "\n",
      "# no chance 3P% is out of this range\n",
      "p_normal = pm.Uniform(\"p_normal\", 0.3, 0.4)\n",
      "p_after = pm.Uniform(\"p_after\", 0.3, 0.4)\n",
      "\n",
      "@pm.deterministic\n",
      "def delta(p_normal=p_normal, p_after=p_after):\n",
      "    return p_after - p_normal\n",
      "\n",
      "# scraped observations\n",
      "obs_normal = pm.Bernoulli(\"obs_normal\", p_normal, value=normal, observed=True)\n",
      "obs_after = pm.Bernoulli(\"obs_after\", p_after, value=after, observed=True)"
     ],
     "language": "python",
     "metadata": {},
     "outputs": [],
     "prompt_number": 28
    },
    {
     "cell_type": "code",
     "collapsed": false,
     "input": [
      "m = pm.MCMC([p_normal, p_after, delta, obs_normal, obs_after])\n",
      "m.sample(20000)"
     ],
     "language": "python",
     "metadata": {},
     "outputs": [
      {
       "output_type": "stream",
       "stream": "stdout",
       "text": [
        "\r",
        " [--                5%                  ] 1154 of 20000 complete in 0.5 sec"
       ]
      },
      {
       "output_type": "stream",
       "stream": "stdout",
       "text": [
        "\r",
        " [---               9%                  ] 1937 of 20000 complete in 1.0 sec"
       ]
      },
      {
       "output_type": "stream",
       "stream": "stdout",
       "text": [
        "\r",
        " [----             12%                  ] 2437 of 20000 complete in 1.5 sec"
       ]
      },
      {
       "output_type": "stream",
       "stream": "stdout",
       "text": [
        "\r",
        " [-----            14%                  ] 2946 of 20000 complete in 2.0 sec"
       ]
      },
      {
       "output_type": "stream",
       "stream": "stdout",
       "text": [
        "\r",
        " [------           16%                  ] 3286 of 20000 complete in 2.5 sec"
       ]
      },
      {
       "output_type": "stream",
       "stream": "stdout",
       "text": [
        "\r",
        " [------           17%                  ] 3590 of 20000 complete in 3.0 sec"
       ]
      },
      {
       "output_type": "stream",
       "stream": "stdout",
       "text": [
        "\r",
        " [-------          19%                  ] 3911 of 20000 complete in 3.5 sec"
       ]
      },
      {
       "output_type": "stream",
       "stream": "stdout",
       "text": [
        "\r",
        " [--------         21%                  ] 4232 of 20000 complete in 4.0 sec"
       ]
      },
      {
       "output_type": "stream",
       "stream": "stdout",
       "text": [
        "\r",
        " [--------         22%                  ] 4521 of 20000 complete in 4.5 sec"
       ]
      },
      {
       "output_type": "stream",
       "stream": "stdout",
       "text": [
        "\r",
        " [---------        24%                  ] 4810 of 20000 complete in 5.0 sec"
       ]
      },
      {
       "output_type": "stream",
       "stream": "stdout",
       "text": [
        "\r",
        " [---------        25%                  ] 5113 of 20000 complete in 5.5 sec"
       ]
      },
      {
       "output_type": "stream",
       "stream": "stdout",
       "text": [
        "\r",
        " [----------       27%                  ] 5405 of 20000 complete in 6.0 sec"
       ]
      },
      {
       "output_type": "stream",
       "stream": "stdout",
       "text": [
        "\r",
        " [----------       28%                  ] 5688 of 20000 complete in 6.5 sec"
       ]
      },
      {
       "output_type": "stream",
       "stream": "stdout",
       "text": [
        "\r",
        " [-----------      29%                  ] 5965 of 20000 complete in 7.0 sec"
       ]
      },
      {
       "output_type": "stream",
       "stream": "stdout",
       "text": [
        "\r",
        " [-----------      31%                  ] 6238 of 20000 complete in 7.5 sec"
       ]
      },
      {
       "output_type": "stream",
       "stream": "stdout",
       "text": [
        "\r",
        " [------------     32%                  ] 6509 of 20000 complete in 8.0 sec"
       ]
      },
      {
       "output_type": "stream",
       "stream": "stdout",
       "text": [
        "\r",
        " [------------     33%                  ] 6771 of 20000 complete in 8.5 sec"
       ]
      },
      {
       "output_type": "stream",
       "stream": "stdout",
       "text": [
        "\r",
        " [-------------    35%                  ] 7038 of 20000 complete in 9.0 sec"
       ]
      },
      {
       "output_type": "stream",
       "stream": "stdout",
       "text": [
        "\r",
        " [-------------    36%                  ] 7306 of 20000 complete in 9.5 sec"
       ]
      },
      {
       "output_type": "stream",
       "stream": "stdout",
       "text": [
        "\r",
        " [--------------   37%                  ] 7584 of 20000 complete in 10.0 sec"
       ]
      },
      {
       "output_type": "stream",
       "stream": "stdout",
       "text": [
        "\r",
        " [--------------   39%                  ] 7827 of 20000 complete in 10.5 sec"
       ]
      },
      {
       "output_type": "stream",
       "stream": "stdout",
       "text": [
        "\r",
        " [---------------  40%                  ] 8076 of 20000 complete in 11.0 sec"
       ]
      },
      {
       "output_type": "stream",
       "stream": "stdout",
       "text": [
        "\r",
        " [---------------  41%                  ] 8346 of 20000 complete in 11.5 sec"
       ]
      },
      {
       "output_type": "stream",
       "stream": "stdout",
       "text": [
        "\r",
        " [---------------- 43%                  ] 8605 of 20000 complete in 12.0 sec"
       ]
      },
      {
       "output_type": "stream",
       "stream": "stdout",
       "text": [
        "\r",
        " [---------------- 44%                  ] 8854 of 20000 complete in 12.5 sec"
       ]
      },
      {
       "output_type": "stream",
       "stream": "stdout",
       "text": [
        "\r",
        " [-----------------45%                  ] 9051 of 20000 complete in 13.0 sec"
       ]
      },
      {
       "output_type": "stream",
       "stream": "stdout",
       "text": [
        "\r",
        " [-----------------46%                  ] 9305 of 20000 complete in 13.5 sec"
       ]
      },
      {
       "output_type": "stream",
       "stream": "stdout",
       "text": [
        "\r",
        " [-----------------47%                  ] 9567 of 20000 complete in 14.0 sec"
       ]
      },
      {
       "output_type": "stream",
       "stream": "stdout",
       "text": [
        "\r",
        " [-----------------49%                  ] 9813 of 20000 complete in 14.5 sec"
       ]
      },
      {
       "output_type": "stream",
       "stream": "stdout",
       "text": [
        "\r",
        " [-----------------50%                  ] 10067 of 20000 complete in 15.0 sec"
       ]
      },
      {
       "output_type": "stream",
       "stream": "stdout",
       "text": [
        "\r",
        " [-----------------51%                  ] 10300 of 20000 complete in 15.5 sec"
       ]
      },
      {
       "output_type": "stream",
       "stream": "stdout",
       "text": [
        "\r",
        " [-----------------52%                  ] 10542 of 20000 complete in 16.0 sec"
       ]
      },
      {
       "output_type": "stream",
       "stream": "stdout",
       "text": [
        "\r",
        " [-----------------53%                  ] 10787 of 20000 complete in 16.5 sec"
       ]
      },
      {
       "output_type": "stream",
       "stream": "stdout",
       "text": [
        "\r",
        " [-----------------55%                  ] 11033 of 20000 complete in 17.0 sec"
       ]
      },
      {
       "output_type": "stream",
       "stream": "stdout",
       "text": [
        "\r",
        " [-----------------56%-                 ] 11278 of 20000 complete in 17.5 sec"
       ]
      },
      {
       "output_type": "stream",
       "stream": "stdout",
       "text": [
        "\r",
        " [-----------------57%-                 ] 11526 of 20000 complete in 18.0 sec"
       ]
      },
      {
       "output_type": "stream",
       "stream": "stdout",
       "text": [
        "\r",
        " [-----------------58%--                ] 11769 of 20000 complete in 18.5 sec"
       ]
      },
      {
       "output_type": "stream",
       "stream": "stdout",
       "text": [
        "\r",
        " [-----------------60%--                ] 12016 of 20000 complete in 19.0 sec"
       ]
      },
      {
       "output_type": "stream",
       "stream": "stdout",
       "text": [
        "\r",
        " [-----------------61%---               ] 12268 of 20000 complete in 19.5 sec"
       ]
      },
      {
       "output_type": "stream",
       "stream": "stdout",
       "text": [
        "\r",
        " [-----------------62%---               ] 12521 of 20000 complete in 20.0 sec"
       ]
      },
      {
       "output_type": "stream",
       "stream": "stdout",
       "text": [
        "\r",
        " [-----------------63%----              ] 12763 of 20000 complete in 20.5 sec"
       ]
      },
      {
       "output_type": "stream",
       "stream": "stdout",
       "text": [
        "\r",
        " [-----------------65%----              ] 13011 of 20000 complete in 21.0 sec"
       ]
      },
      {
       "output_type": "stream",
       "stream": "stdout",
       "text": [
        "\r",
        " [-----------------66%-----             ] 13248 of 20000 complete in 21.5 sec"
       ]
      },
      {
       "output_type": "stream",
       "stream": "stdout",
       "text": [
        "\r",
        " [-----------------67%-----             ] 13482 of 20000 complete in 22.0 sec"
       ]
      },
      {
       "output_type": "stream",
       "stream": "stdout",
       "text": [
        "\r",
        " [-----------------68%------            ] 13728 of 20000 complete in 22.5 sec"
       ]
      },
      {
       "output_type": "stream",
       "stream": "stdout",
       "text": [
        "\r",
        " [-----------------69%------            ] 13974 of 20000 complete in 23.0 sec"
       ]
      },
      {
       "output_type": "stream",
       "stream": "stdout",
       "text": [
        "\r",
        " [-----------------71%-------           ] 14221 of 20000 complete in 23.5 sec"
       ]
      },
      {
       "output_type": "stream",
       "stream": "stdout",
       "text": [
        "\r",
        " [-----------------72%-------           ] 14472 of 20000 complete in 24.0 sec"
       ]
      },
      {
       "output_type": "stream",
       "stream": "stdout",
       "text": [
        "\r",
        " [-----------------73%-------           ] 14717 of 20000 complete in 24.6 sec"
       ]
      },
      {
       "output_type": "stream",
       "stream": "stdout",
       "text": [
        "\r",
        " [-----------------74%--------          ] 14960 of 20000 complete in 25.1 sec"
       ]
      },
      {
       "output_type": "stream",
       "stream": "stdout",
       "text": [
        "\r",
        " [-----------------76%--------          ] 15209 of 20000 complete in 25.6 sec"
       ]
      },
      {
       "output_type": "stream",
       "stream": "stdout",
       "text": [
        "\r",
        " [-----------------77%---------         ] 15461 of 20000 complete in 26.1 sec"
       ]
      },
      {
       "output_type": "stream",
       "stream": "stdout",
       "text": [
        "\r",
        " [-----------------78%---------         ] 15698 of 20000 complete in 26.6 sec"
       ]
      },
      {
       "output_type": "stream",
       "stream": "stdout",
       "text": [
        "\r",
        " [-----------------79%----------        ] 15937 of 20000 complete in 27.1 sec"
       ]
      },
      {
       "output_type": "stream",
       "stream": "stdout",
       "text": [
        "\r",
        " [-----------------80%----------        ] 16184 of 20000 complete in 27.6 sec"
       ]
      },
      {
       "output_type": "stream",
       "stream": "stdout",
       "text": [
        "\r",
        " [-----------------82%-----------       ] 16427 of 20000 complete in 28.1 sec"
       ]
      },
      {
       "output_type": "stream",
       "stream": "stdout",
       "text": [
        "\r",
        " [-----------------83%-----------       ] 16669 of 20000 complete in 28.6 sec"
       ]
      },
      {
       "output_type": "stream",
       "stream": "stdout",
       "text": [
        "\r",
        " [-----------------84%------------      ] 16916 of 20000 complete in 29.1 sec"
       ]
      },
      {
       "output_type": "stream",
       "stream": "stdout",
       "text": [
        "\r",
        " [-----------------85%------------      ] 17166 of 20000 complete in 29.6 sec"
       ]
      },
      {
       "output_type": "stream",
       "stream": "stdout",
       "text": [
        "\r",
        " [-----------------87%-------------     ] 17415 of 20000 complete in 30.1 sec"
       ]
      },
      {
       "output_type": "stream",
       "stream": "stdout",
       "text": [
        "\r",
        " [-----------------88%-------------     ] 17654 of 20000 complete in 30.6 sec"
       ]
      },
      {
       "output_type": "stream",
       "stream": "stdout",
       "text": [
        "\r",
        " [-----------------89%--------------    ] 17901 of 20000 complete in 31.1 sec"
       ]
      },
      {
       "output_type": "stream",
       "stream": "stdout",
       "text": [
        "\r",
        " [-----------------90%--------------    ] 18143 of 20000 complete in 31.6 sec"
       ]
      },
      {
       "output_type": "stream",
       "stream": "stdout",
       "text": [
        "\r",
        " [-----------------91%--------------    ] 18380 of 20000 complete in 32.1 sec"
       ]
      },
      {
       "output_type": "stream",
       "stream": "stdout",
       "text": [
        "\r",
        " [-----------------93%---------------   ] 18618 of 20000 complete in 32.6 sec"
       ]
      },
      {
       "output_type": "stream",
       "stream": "stdout",
       "text": [
        "\r",
        " [-----------------94%---------------   ] 18866 of 20000 complete in 33.1 sec"
       ]
      },
      {
       "output_type": "stream",
       "stream": "stdout",
       "text": [
        "\r",
        " [-----------------95%----------------  ] 19102 of 20000 complete in 33.6 sec"
       ]
      },
      {
       "output_type": "stream",
       "stream": "stdout",
       "text": [
        "\r",
        " [-----------------96%----------------  ] 19352 of 20000 complete in 34.1 sec"
       ]
      },
      {
       "output_type": "stream",
       "stream": "stdout",
       "text": [
        "\r",
        " [-----------------97%----------------- ] 19584 of 20000 complete in 34.6 sec"
       ]
      },
      {
       "output_type": "stream",
       "stream": "stdout",
       "text": [
        "\r",
        " [-----------------99%----------------- ] 19825 of 20000 complete in 35.1 sec"
       ]
      },
      {
       "output_type": "stream",
       "stream": "stdout",
       "text": [
        "\r",
        " [-----------------100%-----------------] 20000 of 20000 complete in 35.4 sec"
       ]
      }
     ],
     "prompt_number": 29
    },
    {
     "cell_type": "code",
     "collapsed": false,
     "input": [
      "p_normal_samples = m.trace(\"p_normal\")[:]\n",
      "p_after_samples = m.trace(\"p_after\")[:]\n",
      "delta_samples = m.trace(\"delta\")[:]"
     ],
     "language": "python",
     "metadata": {},
     "outputs": [],
     "prompt_number": 30
    },
    {
     "cell_type": "markdown",
     "metadata": {},
     "source": [
      "Finally, we can plot the results of our simulations."
     ]
    },
    {
     "cell_type": "code",
     "collapsed": false,
     "input": [
      "figsize(12.5, 10)\n",
      "\n",
      "ax = plt.subplot(311)\n",
      "plt.xlim(0.3, 0.4)\n",
      "plt.xticks(np.arange(0.3, 0.401, 0.01))\n",
      "plt.ylim(0, 300)\n",
      "plt.hist(p_normal_samples, histtype='stepfilled', bins=50, normed=True, \n",
      "         color='#E41A1C', label='3P% \"Normal\"')\n",
      "plt.vlines(normal.mean(), 0, 300, linestyles='--', label='True \"Normal\" 3P%')\n",
      "plt.legend()\n",
      "plt.grid(False)\n",
      "\n",
      "ax = plt.subplot(312)\n",
      "plt.xlim(0.3, 0.4)\n",
      "plt.xticks(np.arange(0.3, 0.401, 0.01))\n",
      "plt.ylim(0, 300)\n",
      "plt.hist(p_after_samples, histtype='stepfilled', bins=50, normed=True,\n",
      "         color='#4DAF4A', label='3P% After Off. Reb.')\n",
      "plt.vlines(after.mean(), 0, 300, linestyles='--',\n",
      "           label='True 3P% After Off. Reb.')\n",
      "plt.legend()\n",
      "plt.grid(False)\n",
      "\n",
      "ax = plt.subplot(313)\n",
      "plt.xlim(-0.05, 0.05)\n",
      "plt.xticks(np.arange(-0.05, 0.051, 0.01))\n",
      "plt.ylim(0, 300)\n",
      "plt.hist(delta_samples, histtype='stepfilled', bins=50, normed=True,\n",
      "         color='#377EB8', label='Delta')\n",
      "plt.vlines(0, 0, 300, linestyles='--', label='$H_0$ (No difference)')\n",
      "plt.legend()\n",
      "plt.grid(False);"
     ],
     "language": "python",
     "metadata": {},
     "outputs": [
      {
       "metadata": {},
       "output_type": "display_data",
       "png": "[encoded data removed]",
       "text": [
        "<matplotlib.figure.Figure at 0x1236fb1d0>"
       ]
      }
     ],
     "prompt_number": 31
    },
    {
     "cell_type": "markdown",
     "metadata": {},
     "source": [
      "Notice the much narrower distribution at the top? This is because we had so many observations for \"normal\" three pointers. There wasn't much uncertainty! It's quite different than the second distribution, where the wider width of the distribution indicates are greater level of uncertainty on those attempted after offensive rebounds. This is due to the much smaller sample size.\n",
      "\n",
      "The final distribution shows the difference between \"normal\" and \"after\" three pointers in our simulations. Much more often than not, \"after\" three pointers had a higher 3P% in the simulations.\n",
      "\n",
      "In what percentage of simulations was \"after\" better than \"normal\" though?"
     ]
    },
    {
     "cell_type": "code",
     "collapsed": false,
     "input": [
      "print (\"3P% after offensive rebounds was more successful \"\n",
      "       \"in {0:.1f}% of simulations\").format((delta_samples > 0).mean() * 100)"
     ],
     "language": "python",
     "metadata": {},
     "outputs": [
      {
       "output_type": "stream",
       "stream": "stdout",
       "text": [
        "3P% after offensive rebounds was more successful in 83.1% of simulations\n"
       ]
      }
     ],
     "prompt_number": 32
    },
    {
     "cell_type": "markdown",
     "metadata": {},
     "source": [
      "Looks like Jay Bilas is pretty right about this one. While the absolute difference in 3P% is small, those after an offensive rebound were more successful in about 83% of our simulations."
     ]
    }
   ],
   "metadata": {}
  }
 ]
}